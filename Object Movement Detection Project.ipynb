{
 "cells": [
  {
   "cell_type": "code",
   "execution_count": 30,
   "metadata": {},
   "outputs": [],
   "source": [
    "import cv2\n",
    "import winsound\n",
    "# we are using only one camera so thats why we entered 0\n",
    "cam=cv2.VideoCapture(0)\n",
    "\n",
    "while cam.isOpened():\n",
    "    \n",
    "    # frame of the camera is given to frame\n",
    "    #to read input from camera\n",
    "    #b is a boolean value will tell whether caputuring object is working or not\n",
    "    #to read input from camera\n",
    "    b,frame1=cam.read()\n",
    "    b,frame2=cam.read()\n",
    "    \n",
    "    #capturing 2 instance of frame and comparing both in order to capturing movement in frame\n",
    "    #diff. will show movement in black and color\n",
    "    #if diff. between current and previous position(frames) is same nothing will be shown\n",
    "    diff=cv2.absdiff(frame1,frame2)\n",
    "    #grey will show moment in grey color\n",
    "    grey=cv2.cvtColor(diff,cv2.COLOR_RGB2GRAY)\n",
    "    blur=cv2.GaussianBlur(grey,(5,5),0)\n",
    "    \n",
    "    #thresh will help us to remove noice , more clear movement will be shown\n",
    "    # it gives 2 values one will be store in thresh other in '_' as we dont other value\n",
    "    _,thresh=cv2.threshold(blur,20,255,cv2.THRESH_BINARY)\n",
    "    \n",
    "    #dilating 3 times'iterations=3' kernel=none\n",
    "    dilated=cv2.dilate(thresh,None,iterations=2)\n",
    "    \n",
    "    #contoours are the boundries of item that\n",
    "    #we have didected moving what things are moving\n",
    "    #find every moving object use findcontours ,\n",
    "    #'RETR_TREE' is a mode,'cv2.CHAIN_APPROX_SIMPLE' is method\n",
    "    contours, _ = cv2.findContours(dilated, cv2.RETR_TREE,cv2.CHAIN_APPROX_SIMPLE)\n",
    "    \n",
    "    # to actuallydraw contours on frame1 use draw contours, -1  for everything, ,\n",
    "    #2 is thickness,0,255,0 is green color\n",
    "    #it will detect all small things that are moving\n",
    "    '''cv2.drawContours(frame1,contours,-1,(0,255,0),2)'''\n",
    "    # to detect only large objects\n",
    "    # waitKey help toterminate program without any error\n",
    "    for c in contours:\n",
    "        if cv2.contourArea(c)<20:\n",
    "            continue\n",
    "        x,y,w,h=cv2.boundingRect(c)\n",
    "        cv2.rectangle(frame1,(x,y),(x+w,y+h),(34,50,2),3)\n",
    "        winsound.Beep(500, 500)\n",
    "    if cv2.waitKey(5)== ord('q'):\n",
    "        # to release camera source \n",
    "        cam.release()\n",
    "        cv2.destroyAllWindows()\n",
    "        break\n",
    "    # it will show captured video on screen\n",
    "    cv2.imshow('Movement Detection Camera',frame1)\n"
   ]
  },
  {
   "cell_type": "code",
   "execution_count": null,
   "metadata": {},
   "outputs": [],
   "source": []
  },
  {
   "cell_type": "code",
   "execution_count": null,
   "metadata": {},
   "outputs": [],
   "source": []
  },
  {
   "cell_type": "code",
   "execution_count": null,
   "metadata": {},
   "outputs": [],
   "source": []
  }
 ],
 "metadata": {
  "kernelspec": {
   "display_name": "Python 3",
   "language": "python",
   "name": "python3"
  },
  "language_info": {
   "codemirror_mode": {
    "name": "ipython",
    "version": 3
   },
   "file_extension": ".py",
   "mimetype": "text/x-python",
   "name": "python",
   "nbconvert_exporter": "python",
   "pygments_lexer": "ipython3",
   "version": "3.7.1"
  }
 },
 "nbformat": 4,
 "nbformat_minor": 4
}
-------------------------------------+++++++++++++