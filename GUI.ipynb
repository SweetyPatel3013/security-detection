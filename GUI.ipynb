{
 "cells": [
  {
   "cell_type": "code",
   "execution_count": 1,
   "id": "91da6621",
   "metadata": {},
   "outputs": [],
   "source": [
    "import numpy as np\n",
    "import os\n",
    "import cv2\n",
    "from PIL import Image\n",
    "\n",
    "import time\n",
    "import PySimpleGUI as sg"
   ]
  },
  {
   "cell_type": "code",
   "execution_count": 5,
   "id": "1f2f0f7f",
   "metadata": {},
   "outputs": [],
   "source": [
    "# Camera Settings\n",
    "camera_Width  = 320 # 480 # 640 # 1024 # 1280\n",
    "camera_Heigth = 240 # 320 # 480 # 780  # 960\n",
    "frameSize = (camera_Width, camera_Heigth)\n",
    "video_capture = cv2.VideoCapture(0)\n",
    "time.sleep(2.0)\n",
    "\n",
    "# init Windows Manager\n",
    "sg.theme(\"DarkGrey12\")\n",
    "\n",
    "colwebcam1_layout = [[sg.Text(\"Camera View\", size=(60, 1), justification=\"center\")],\n",
    "                        [sg.Image(filename=\"\", key=\"cam1\")]]\n",
    "colwebcam1 = sg.Column(colwebcam1_layout, element_justification='center')\n",
    "\n",
    "colslayout = [colwebcam1]\n",
    "\n",
    "# rowfooter = [sg.Image(filename=\"avabottom.png\", key=\"-IMAGEBOTTOM-\")]\n",
    "layout = [colslayout]#, rowfooter]\n",
    "\n",
    "window    = sg.Window(\"Security Detection\", layout, \n",
    "                    no_titlebar=False, alpha_channel=1, grab_anywhere=False, \n",
    "                    return_keyboard_events=True, location=(100, 100))        \n",
    "while True:\n",
    "    start_time = time.time()\n",
    "    event, values = window.read(timeout=20)\n",
    "\n",
    "    if event == sg.WIN_CLOSED:\n",
    "        break\n",
    "\n",
    "    # get camera frame\n",
    "    ret, frameOrig = video_capture.read()\n",
    "    frame = cv2.resize(frameOrig, frameSize)\n",
    "  \n",
    "    # if (time.time() – start_time ) > 0:\n",
    "    #     fpsInfo = \"FPS: \" + str(1.0 / (time.time() – start_time)) # FPS = 1 / time to process loop\n",
    "    #     font = cv2.FONT_HERSHEY_DUPLEX\n",
    "    #     cv2.putText(frame, fpsInfo, (10, 20), font, 0.4, (255, 255, 255), 1)\n",
    "\n",
    "    # # update webcam1\n",
    "    imgbytes = cv2.imencode(\".png\", frame)[1].tobytes()\n",
    "    window[\"cam1\"].update(data=imgbytes)\n",
    "    \n",
    "    # # transform frame to grayscale\n",
    "#     gray = cv2.cvtColor(frame, cv2.COLOR_BGR2GRAY)\n",
    "\n",
    "#     # # update webcam2\n",
    "#     imgbytes = cv2.imencode(\".png\", gray)[1].tobytes()\n",
    "#     window[\"cam1gray\"].update(data=imgbytes)\n",
    "\n",
    "video_capture.release()\n",
    "cv2.destroyAllWindows()"
   ]
  },
  {
   "cell_type": "code",
   "execution_count": 3,
   "id": "8d7cc76f",
   "metadata": {},
   "outputs": [],
   "source": [
    "import PySimpleGUI as sg\n",
    "  \n",
    "sg.theme_previewer()"
   ]
  },
  {
   "cell_type": "code",
   "execution_count": null,
   "id": "a8ca55df",
   "metadata": {},
   "outputs": [],
   "source": []
  }
 ],
 "metadata": {
  "kernelspec": {
   "display_name": "Python 3",
   "language": "python",
   "name": "python3"
  },
  "language_info": {
   "codemirror_mode": {
    "name": "ipython",
    "version": 3
   },
   "file_extension": ".py",
   "mimetype": "text/x-python",
   "name": "python",
   "nbconvert_exporter": "python",
   "pygments_lexer": "ipython3",
   "version": "3.8.8"
  }
 },
 "nbformat": 4,
 "nbformat_minor": 5
}
